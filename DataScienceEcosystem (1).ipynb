{
 "cells": [
  {
   "cell_type": "markdown",
   "id": "843dcac3-75d2-4702-918a-7339202ec700",
   "metadata": {},
   "source": [
    "# Data Science Tools and Ecosystem"
   ]
  },
  {
   "cell_type": "markdown",
   "id": "30f19e44-32cc-4fa0-9c8d-2c921501e67e",
   "metadata": {},
   "source": [
    " In this notebook, Data Science Tools and Ecosystem are summarized."
   ]
  },
  {
   "cell_type": "markdown",
   "id": "5729eb35-18ab-4439-930d-4b8f8faba4ed",
   "metadata": {},
   "source": [
    "Some of the popular languages that Data Scientists use are:\n",
    "1. python\n",
    "2. R\n",
    "3. julia\n",
    "4. ruby"
   ]
  },
  {
   "cell_type": "markdown",
   "id": "afbc393c-9d7c-4466-996e-48d0de0e20d4",
   "metadata": {},
   "source": [
    "Some of the commonly used libraries used by Data Scientists include:\n",
    "1. numpy\n",
    "2. pandas\n",
    "3. matplotlib\n",
    "4. tensorflow\n",
    "5. nltk\n",
    "6. math\n",
    "7. cv2\n",
    "8. keras\n"
   ]
  },
  {
   "cell_type": "markdown",
   "id": "b63bd9f2-1887-4fc2-a7fe-cf901e203965",
   "metadata": {},
   "source": [
    "| Data Science Tools    |\r\n",
    "|-----------------------|\r\n",
    "| Jupyter Notebooks     |\r\n",
    "| RStudio               |\r\n",
    "| VS Code with extensions|"
   ]
  },
  {
   "cell_type": "markdown",
   "id": "f4be18b1-2aba-4b3f-8ef1-8e832a68c82b",
   "metadata": {},
   "source": [
    "### Below are a few examples of evaluating arithmetic expressions in Python"
   ]
  },
  {
   "cell_type": "code",
   "execution_count": 1,
   "id": "592d4e00-8db9-4793-bd5a-dc1f8d9de9d3",
   "metadata": {},
   "outputs": [
    {
     "data": {
      "text/plain": [
       "17"
      ]
     },
     "execution_count": 1,
     "metadata": {},
     "output_type": "execute_result"
    }
   ],
   "source": [
    "(3*4)+5"
   ]
  },
  {
   "cell_type": "code",
   "execution_count": 2,
   "id": "2a2f8884-e821-4265-aa58-ce7692cec243",
   "metadata": {},
   "outputs": [
    {
     "data": {
      "text/plain": [
       "3.3333333333333335"
      ]
     },
     "execution_count": 2,
     "metadata": {},
     "output_type": "execute_result"
    }
   ],
   "source": [
    " # This will convert 200 minutes to hours by diving by 60\n",
    "200/60"
   ]
  },
  {
   "cell_type": "markdown",
   "id": "db172cfa-bb53-4da1-bac9-5e0f62ad60f9",
   "metadata": {},
   "source": [
    "**Objectives:**\r\n",
    "\r\n",
    "- List popular languages for Data Science.\r\n",
    "- Introduce basic concepts of machine learning.\r\n",
    "- Demonstrate how to create visualizations using Matplotlib.\r\n",
    "- Explore data manipulation with Pandas.\r\n",
    "- Discuss best practices for collaborative coding in Jupyter Notebooks.\r\n"
   ]
  },
  {
   "cell_type": "markdown",
   "id": "f6991e27-a26a-4d0f-8f34-1b8a0b7f6da7",
   "metadata": {},
   "source": [
    "## Author\n",
    "Khushbu Parmar"
   ]
  },
  {
   "cell_type": "code",
   "execution_count": null,
   "id": "4a85f230-1b68-4bdd-a07d-345bb994c4e5",
   "metadata": {},
   "outputs": [],
   "source": []
  }
 ],
 "metadata": {
  "kernelspec": {
   "display_name": "Python 3 (ipykernel)",
   "language": "python",
   "name": "python3"
  },
  "language_info": {
   "codemirror_mode": {
    "name": "ipython",
    "version": 3
   },
   "file_extension": ".py",
   "mimetype": "text/x-python",
   "name": "python",
   "nbconvert_exporter": "python",
   "pygments_lexer": "ipython3",
   "version": "3.11.4"
  }
 },
 "nbformat": 4,
 "nbformat_minor": 5
}
